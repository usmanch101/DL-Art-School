{
 "cells": [
  {
   "cell_type": "code",
   "execution_count": null,
   "id": "f73a2cfa-135f-444a-8d02-62ed736e3ada",
   "metadata": {},
   "outputs": [],
   "source": []
  }
 ],
 "metadata": {
  "kernelspec": {
   "display_name": "",
   "name": ""
  },
  "language_info": {
   "name": ""
  }
 },
 "nbformat": 4,
 "nbformat_minor": 5
}
